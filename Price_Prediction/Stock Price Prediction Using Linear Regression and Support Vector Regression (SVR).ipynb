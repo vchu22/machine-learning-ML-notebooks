{
 "cells": [
  {
   "cell_type": "markdown",
   "metadata": {
    "id": "n1gZujey9VPM"
   },
   "source": [
    "# Stock Price Prediction Using LR and SVR Models\n",
    "Following the tutorial \n",
    "https://www.youtube.com/watch?v=EYnC4ACIt2g&list=PLqcF-HKeIFjPY_gJDbqoouJEbGNnYhboT"
   ]
  },
  {
   "cell_type": "code",
   "execution_count": null,
   "metadata": {
    "colab": {
     "base_uri": "https://localhost:8080/"
    },
    "executionInfo": {
     "elapsed": 7221,
     "status": "ok",
     "timestamp": 1717610061108,
     "user": {
      "displayName": "Vanessa Chu",
      "userId": "10595885674316425418"
     },
     "user_tz": 240
    },
    "id": "sYIWHkIJXifR",
    "outputId": "49157230-bf47-4a66-c252-b59d4f6af7a1",
    "scrolled": true
   },
   "outputs": [],
   "source": [
    "pip install quandl"
   ]
  },
  {
   "cell_type": "code",
   "execution_count": 3,
   "metadata": {
    "executionInfo": {
     "elapsed": 156,
     "status": "ok",
     "timestamp": 1717610061259,
     "user": {
      "displayName": "Vanessa Chu",
      "userId": "10595885674316425418"
     },
     "user_tz": 240
    },
    "id": "GRlf_PrDv5Iq"
   },
   "outputs": [],
   "source": [
    "# Install the dependencies\n",
    "import quandl\n",
    "import numpy as np\n",
    "import matplotlib.pyplot as plt\n",
    "from sklearn.linear_model import LinearRegression\n",
    "from sklearn.svm import SVR\n",
    "from sklearn.model_selection import train_test_split"
   ]
  },
  {
   "cell_type": "code",
   "execution_count": 19,
   "metadata": {
    "colab": {
     "base_uri": "https://localhost:8080/",
     "height": 329
    },
    "executionInfo": {
     "elapsed": 16355,
     "status": "error",
     "timestamp": 1717610077612,
     "user": {
      "displayName": "Vanessa Chu",
      "userId": "10595885674316425418"
     },
     "user_tz": 240
    },
    "id": "e5Sri93xxhbF",
    "outputId": "aa5fd679-b1ee-4844-e970-ad57173aa9cf"
   },
   "outputs": [
    {
     "name": "stdin",
     "output_type": "stream",
     "text": [
      "Enter the symbol for a stock to look up: msft\n"
     ]
    },
    {
     "name": "stdout",
     "output_type": "stream",
     "text": [
      "             Open   High   Low  Close     Volume  Ex-Dividend  Split Ratio  \\\n",
      "Date                                                                         \n",
      "1986-03-13  25.50  29.25  25.5  28.00  3582600.0          0.0          1.0   \n",
      "1986-03-14  28.00  29.50  28.0  29.00  1070000.0          0.0          1.0   \n",
      "1986-03-17  29.00  29.75  29.0  29.50   462400.0          0.0          1.0   \n",
      "1986-03-18  29.50  29.75  28.5  28.75   235300.0          0.0          1.0   \n",
      "1986-03-19  28.75  29.00  28.0  28.25   166300.0          0.0          1.0   \n",
      "\n",
      "            Adj. Open  Adj. High  Adj. Low  Adj. Close   Adj. Volume  \n",
      "Date                                                                  \n",
      "1986-03-13   0.058941   0.067609  0.058941    0.064720  1.031789e+09  \n",
      "1986-03-14   0.064720   0.068187  0.064720    0.067031  3.081600e+08  \n",
      "1986-03-17   0.067031   0.068765  0.067031    0.068187  1.331712e+08  \n",
      "1986-03-18   0.068187   0.068765  0.065876    0.066454  6.776640e+07  \n",
      "1986-03-19   0.066454   0.067031  0.064720    0.065298  4.789440e+07  \n"
     ]
    }
   ],
   "source": [
    "# Get the stock data\n",
    "symbol = input(\"Enter the symbol for a stock to look up:\")\n",
    "df = quandl.get(f\"WIKI/{symbol}\")\n",
    "# Take a look at the data\n",
    "print(df.head())"
   ]
  },
  {
   "cell_type": "code",
   "execution_count": 23,
   "metadata": {
    "executionInfo": {
     "elapsed": 5,
     "status": "aborted",
     "timestamp": 1717610077612,
     "user": {
      "displayName": "Vanessa Chu",
      "userId": "10595885674316425418"
     },
     "user_tz": 240
    },
    "id": "yRP7qBPgxjR7"
   },
   "outputs": [
    {
     "name": "stdout",
     "output_type": "stream",
     "text": [
      "            Adj. Close\n",
      "Date                  \n",
      "1986-03-13    0.064720\n",
      "1986-03-14    0.067031\n",
      "1986-03-17    0.068187\n",
      "1986-03-18    0.066454\n",
      "1986-03-19    0.065298\n"
     ]
    }
   ],
   "source": [
    "# Get the Adjusted Close Price\n",
    "df = df[['Adj. Close']]\n",
    "print(df.head())"
   ]
  },
  {
   "cell_type": "code",
   "execution_count": 24,
   "metadata": {
    "executionInfo": {
     "elapsed": 5,
     "status": "aborted",
     "timestamp": 1717610077612,
     "user": {
      "displayName": "Vanessa Chu",
      "userId": "10595885674316425418"
     },
     "user_tz": 240
    },
    "id": "txRaovXtz27P"
   },
   "outputs": [
    {
     "name": "stdout",
     "output_type": "stream",
     "text": [
      "            Adj. Close  Prediction\n",
      "Date                              \n",
      "1986-03-13    0.064720    0.078011\n",
      "1986-03-14    0.067031    0.078589\n",
      "1986-03-17    0.068187    0.076277\n",
      "1986-03-18    0.066454    0.074544\n",
      "1986-03-19    0.065298    0.073388\n",
      "            Adj. Close  Prediction\n",
      "Date                              \n",
      "2018-03-21       92.48         NaN\n",
      "2018-03-22       89.79         NaN\n",
      "2018-03-23       87.18         NaN\n",
      "2018-03-26       93.78         NaN\n",
      "2018-03-27       89.47         NaN\n"
     ]
    }
   ],
   "source": [
    "# A variable for predicting 'n' days out into the future\n",
    "forecast_out = 30\n",
    "df['Prediction'] = df[['Adj. Close']].shift(-forecast_out)\n",
    "# print the new data set\n",
    "print(df.head())\n",
    "print(df.tail())"
   ]
  },
  {
   "cell_type": "code",
   "execution_count": 25,
   "metadata": {
    "executionInfo": {
     "elapsed": 5,
     "status": "aborted",
     "timestamp": 1717610077612,
     "user": {
      "displayName": "Vanessa Chu",
      "userId": "10595885674316425418"
     },
     "user_tz": 240
    },
    "id": "pfiOUnLy4ykk"
   },
   "outputs": [
    {
     "name": "stdout",
     "output_type": "stream",
     "text": [
      "[[6.47199796e-02]\n",
      " [6.70314075e-02]\n",
      " [6.81871214e-02]\n",
      " ...\n",
      " [8.48900000e+01]\n",
      " [8.81000000e+01]\n",
      " [8.91300000e+01]]\n"
     ]
    }
   ],
   "source": [
    "# Create the independent data set (X)\n",
    "## Convert the dataframe to a numpy array\n",
    "X = np.array(df.drop(['Prediction'], axis=1))\n",
    "## Remove the last 'n' rows\n",
    "X = X[:-forecast_out]\n",
    "print(X)"
   ]
  },
  {
   "cell_type": "code",
   "execution_count": 26,
   "metadata": {
    "executionInfo": {
     "elapsed": 4,
     "status": "aborted",
     "timestamp": 1717610077612,
     "user": {
      "displayName": "Vanessa Chu",
      "userId": "10595885674316425418"
     },
     "user_tz": 240
    },
    "id": "-Lz65FDg8NpS"
   },
   "outputs": [
    {
     "name": "stdout",
     "output_type": "stream",
     "text": [
      "[7.80106897e-02 7.85885467e-02 7.62771188e-02 ... 8.71800000e+01\n",
      " 9.37800000e+01 8.94700000e+01]\n"
     ]
    }
   ],
   "source": [
    "# Create the dependent data set (y)\n",
    "# Convert df to a numpy array (All values including NaN)\n",
    "y = np.array(df['Prediction'])\n",
    "# Get all of the y values except the last 'n' rows\n",
    "y = y[:-forecast_out]\n",
    "print(y)"
   ]
  },
  {
   "cell_type": "code",
   "execution_count": 27,
   "metadata": {
    "executionInfo": {
     "elapsed": 4,
     "status": "aborted",
     "timestamp": 1717610077612,
     "user": {
      "displayName": "Vanessa Chu",
      "userId": "10595885674316425418"
     },
     "user_tz": 240
    },
    "id": "m4N70L_29H6F"
   },
   "outputs": [],
   "source": [
    "# Split the data into 80% traing and 20% testing\n",
    "x_train, x_test, y_train, y_test = train_test_split(X, y, test_size=0.2)"
   ]
  },
  {
   "cell_type": "code",
   "execution_count": 28,
   "metadata": {
    "executionInfo": {
     "elapsed": 4,
     "status": "aborted",
     "timestamp": 1717610077612,
     "user": {
      "displayName": "Vanessa Chu",
      "userId": "10595885674316425418"
     },
     "user_tz": 240
    },
    "id": "9TVAiaUD9xaY"
   },
   "outputs": [
    {
     "data": {
      "text/html": [
       "<style>#sk-container-id-3 {color: black;background-color: white;}#sk-container-id-3 pre{padding: 0;}#sk-container-id-3 div.sk-toggleable {background-color: white;}#sk-container-id-3 label.sk-toggleable__label {cursor: pointer;display: block;width: 100%;margin-bottom: 0;padding: 0.3em;box-sizing: border-box;text-align: center;}#sk-container-id-3 label.sk-toggleable__label-arrow:before {content: \"▸\";float: left;margin-right: 0.25em;color: #696969;}#sk-container-id-3 label.sk-toggleable__label-arrow:hover:before {color: black;}#sk-container-id-3 div.sk-estimator:hover label.sk-toggleable__label-arrow:before {color: black;}#sk-container-id-3 div.sk-toggleable__content {max-height: 0;max-width: 0;overflow: hidden;text-align: left;background-color: #f0f8ff;}#sk-container-id-3 div.sk-toggleable__content pre {margin: 0.2em;color: black;border-radius: 0.25em;background-color: #f0f8ff;}#sk-container-id-3 input.sk-toggleable__control:checked~div.sk-toggleable__content {max-height: 200px;max-width: 100%;overflow: auto;}#sk-container-id-3 input.sk-toggleable__control:checked~label.sk-toggleable__label-arrow:before {content: \"▾\";}#sk-container-id-3 div.sk-estimator input.sk-toggleable__control:checked~label.sk-toggleable__label {background-color: #d4ebff;}#sk-container-id-3 div.sk-label input.sk-toggleable__control:checked~label.sk-toggleable__label {background-color: #d4ebff;}#sk-container-id-3 input.sk-hidden--visually {border: 0;clip: rect(1px 1px 1px 1px);clip: rect(1px, 1px, 1px, 1px);height: 1px;margin: -1px;overflow: hidden;padding: 0;position: absolute;width: 1px;}#sk-container-id-3 div.sk-estimator {font-family: monospace;background-color: #f0f8ff;border: 1px dotted black;border-radius: 0.25em;box-sizing: border-box;margin-bottom: 0.5em;}#sk-container-id-3 div.sk-estimator:hover {background-color: #d4ebff;}#sk-container-id-3 div.sk-parallel-item::after {content: \"\";width: 100%;border-bottom: 1px solid gray;flex-grow: 1;}#sk-container-id-3 div.sk-label:hover label.sk-toggleable__label {background-color: #d4ebff;}#sk-container-id-3 div.sk-serial::before {content: \"\";position: absolute;border-left: 1px solid gray;box-sizing: border-box;top: 0;bottom: 0;left: 50%;z-index: 0;}#sk-container-id-3 div.sk-serial {display: flex;flex-direction: column;align-items: center;background-color: white;padding-right: 0.2em;padding-left: 0.2em;position: relative;}#sk-container-id-3 div.sk-item {position: relative;z-index: 1;}#sk-container-id-3 div.sk-parallel {display: flex;align-items: stretch;justify-content: center;background-color: white;position: relative;}#sk-container-id-3 div.sk-item::before, #sk-container-id-3 div.sk-parallel-item::before {content: \"\";position: absolute;border-left: 1px solid gray;box-sizing: border-box;top: 0;bottom: 0;left: 50%;z-index: -1;}#sk-container-id-3 div.sk-parallel-item {display: flex;flex-direction: column;z-index: 1;position: relative;background-color: white;}#sk-container-id-3 div.sk-parallel-item:first-child::after {align-self: flex-end;width: 50%;}#sk-container-id-3 div.sk-parallel-item:last-child::after {align-self: flex-start;width: 50%;}#sk-container-id-3 div.sk-parallel-item:only-child::after {width: 0;}#sk-container-id-3 div.sk-dashed-wrapped {border: 1px dashed gray;margin: 0 0.4em 0.5em 0.4em;box-sizing: border-box;padding-bottom: 0.4em;background-color: white;}#sk-container-id-3 div.sk-label label {font-family: monospace;font-weight: bold;display: inline-block;line-height: 1.2em;}#sk-container-id-3 div.sk-label-container {text-align: center;}#sk-container-id-3 div.sk-container {/* jupyter's `normalize.less` sets `[hidden] { display: none; }` but bootstrap.min.css set `[hidden] { display: none !important; }` so we also need the `!important` here to be able to override the default hidden behavior on the sphinx rendered scikit-learn.org. See: https://github.com/scikit-learn/scikit-learn/issues/21755 */display: inline-block !important;position: relative;}#sk-container-id-3 div.sk-text-repr-fallback {display: none;}</style><div id=\"sk-container-id-3\" class=\"sk-top-container\"><div class=\"sk-text-repr-fallback\"><pre>SVR(C=1000.0, gamma=0.1)</pre><b>In a Jupyter environment, please rerun this cell to show the HTML representation or trust the notebook. <br />On GitHub, the HTML representation is unable to render, please try loading this page with nbviewer.org.</b></div><div class=\"sk-container\" hidden><div class=\"sk-item\"><div class=\"sk-estimator sk-toggleable\"><input class=\"sk-toggleable__control sk-hidden--visually\" id=\"sk-estimator-id-3\" type=\"checkbox\" checked><label for=\"sk-estimator-id-3\" class=\"sk-toggleable__label sk-toggleable__label-arrow\">SVR</label><div class=\"sk-toggleable__content\"><pre>SVR(C=1000.0, gamma=0.1)</pre></div></div></div></div></div>"
      ],
      "text/plain": [
       "SVR(C=1000.0, gamma=0.1)"
      ]
     },
     "execution_count": 28,
     "metadata": {},
     "output_type": "execute_result"
    }
   ],
   "source": [
    "# Create and train the Support Vector Machine (Regressor)\n",
    "svr_rbf = SVR(kernel='rbf', C=1e3, gamma=0.1)\n",
    "svr_rbf.fit(x_train, y_train)"
   ]
  },
  {
   "cell_type": "code",
   "execution_count": 29,
   "metadata": {
    "executionInfo": {
     "elapsed": 4,
     "status": "aborted",
     "timestamp": 1717610077612,
     "user": {
      "displayName": "Vanessa Chu",
      "userId": "10595885674316425418"
     },
     "user_tz": 240
    },
    "id": "L13OlgfFfO5X"
   },
   "outputs": [
    {
     "name": "stdout",
     "output_type": "stream",
     "text": [
      "svm confidence:  0.9886222733472775\n"
     ]
    }
   ],
   "source": [
    "# Testing Model: Score returns the coeffient of determination R^2 of the prediction\n",
    "# The best possible score is 1.0\n",
    "svm_confidence = svr_rbf.score(x_test, y_test)\n",
    "print(\"svm confidence: \", svm_confidence)"
   ]
  },
  {
   "cell_type": "code",
   "execution_count": 30,
   "metadata": {
    "executionInfo": {
     "elapsed": 4,
     "status": "aborted",
     "timestamp": 1717610077612,
     "user": {
      "displayName": "Vanessa Chu",
      "userId": "10595885674316425418"
     },
     "user_tz": 240
    },
    "id": "jUrwjmzWhW-U"
   },
   "outputs": [
    {
     "data": {
      "text/html": [
       "<style>#sk-container-id-4 {color: black;background-color: white;}#sk-container-id-4 pre{padding: 0;}#sk-container-id-4 div.sk-toggleable {background-color: white;}#sk-container-id-4 label.sk-toggleable__label {cursor: pointer;display: block;width: 100%;margin-bottom: 0;padding: 0.3em;box-sizing: border-box;text-align: center;}#sk-container-id-4 label.sk-toggleable__label-arrow:before {content: \"▸\";float: left;margin-right: 0.25em;color: #696969;}#sk-container-id-4 label.sk-toggleable__label-arrow:hover:before {color: black;}#sk-container-id-4 div.sk-estimator:hover label.sk-toggleable__label-arrow:before {color: black;}#sk-container-id-4 div.sk-toggleable__content {max-height: 0;max-width: 0;overflow: hidden;text-align: left;background-color: #f0f8ff;}#sk-container-id-4 div.sk-toggleable__content pre {margin: 0.2em;color: black;border-radius: 0.25em;background-color: #f0f8ff;}#sk-container-id-4 input.sk-toggleable__control:checked~div.sk-toggleable__content {max-height: 200px;max-width: 100%;overflow: auto;}#sk-container-id-4 input.sk-toggleable__control:checked~label.sk-toggleable__label-arrow:before {content: \"▾\";}#sk-container-id-4 div.sk-estimator input.sk-toggleable__control:checked~label.sk-toggleable__label {background-color: #d4ebff;}#sk-container-id-4 div.sk-label input.sk-toggleable__control:checked~label.sk-toggleable__label {background-color: #d4ebff;}#sk-container-id-4 input.sk-hidden--visually {border: 0;clip: rect(1px 1px 1px 1px);clip: rect(1px, 1px, 1px, 1px);height: 1px;margin: -1px;overflow: hidden;padding: 0;position: absolute;width: 1px;}#sk-container-id-4 div.sk-estimator {font-family: monospace;background-color: #f0f8ff;border: 1px dotted black;border-radius: 0.25em;box-sizing: border-box;margin-bottom: 0.5em;}#sk-container-id-4 div.sk-estimator:hover {background-color: #d4ebff;}#sk-container-id-4 div.sk-parallel-item::after {content: \"\";width: 100%;border-bottom: 1px solid gray;flex-grow: 1;}#sk-container-id-4 div.sk-label:hover label.sk-toggleable__label {background-color: #d4ebff;}#sk-container-id-4 div.sk-serial::before {content: \"\";position: absolute;border-left: 1px solid gray;box-sizing: border-box;top: 0;bottom: 0;left: 50%;z-index: 0;}#sk-container-id-4 div.sk-serial {display: flex;flex-direction: column;align-items: center;background-color: white;padding-right: 0.2em;padding-left: 0.2em;position: relative;}#sk-container-id-4 div.sk-item {position: relative;z-index: 1;}#sk-container-id-4 div.sk-parallel {display: flex;align-items: stretch;justify-content: center;background-color: white;position: relative;}#sk-container-id-4 div.sk-item::before, #sk-container-id-4 div.sk-parallel-item::before {content: \"\";position: absolute;border-left: 1px solid gray;box-sizing: border-box;top: 0;bottom: 0;left: 50%;z-index: -1;}#sk-container-id-4 div.sk-parallel-item {display: flex;flex-direction: column;z-index: 1;position: relative;background-color: white;}#sk-container-id-4 div.sk-parallel-item:first-child::after {align-self: flex-end;width: 50%;}#sk-container-id-4 div.sk-parallel-item:last-child::after {align-self: flex-start;width: 50%;}#sk-container-id-4 div.sk-parallel-item:only-child::after {width: 0;}#sk-container-id-4 div.sk-dashed-wrapped {border: 1px dashed gray;margin: 0 0.4em 0.5em 0.4em;box-sizing: border-box;padding-bottom: 0.4em;background-color: white;}#sk-container-id-4 div.sk-label label {font-family: monospace;font-weight: bold;display: inline-block;line-height: 1.2em;}#sk-container-id-4 div.sk-label-container {text-align: center;}#sk-container-id-4 div.sk-container {/* jupyter's `normalize.less` sets `[hidden] { display: none; }` but bootstrap.min.css set `[hidden] { display: none !important; }` so we also need the `!important` here to be able to override the default hidden behavior on the sphinx rendered scikit-learn.org. See: https://github.com/scikit-learn/scikit-learn/issues/21755 */display: inline-block !important;position: relative;}#sk-container-id-4 div.sk-text-repr-fallback {display: none;}</style><div id=\"sk-container-id-4\" class=\"sk-top-container\"><div class=\"sk-text-repr-fallback\"><pre>LinearRegression()</pre><b>In a Jupyter environment, please rerun this cell to show the HTML representation or trust the notebook. <br />On GitHub, the HTML representation is unable to render, please try loading this page with nbviewer.org.</b></div><div class=\"sk-container\" hidden><div class=\"sk-item\"><div class=\"sk-estimator sk-toggleable\"><input class=\"sk-toggleable__control sk-hidden--visually\" id=\"sk-estimator-id-4\" type=\"checkbox\" checked><label for=\"sk-estimator-id-4\" class=\"sk-toggleable__label sk-toggleable__label-arrow\">LinearRegression</label><div class=\"sk-toggleable__content\"><pre>LinearRegression()</pre></div></div></div></div></div>"
      ],
      "text/plain": [
       "LinearRegression()"
      ]
     },
     "execution_count": 30,
     "metadata": {},
     "output_type": "execute_result"
    }
   ],
   "source": [
    "# Create and train the Linear Regression Model\n",
    "lr = LinearRegression()\n",
    "# Train the model\n",
    "lr.fit(x_train, y_train)"
   ]
  },
  {
   "cell_type": "code",
   "execution_count": 31,
   "metadata": {
    "executionInfo": {
     "elapsed": 4,
     "status": "aborted",
     "timestamp": 1717610077612,
     "user": {
      "displayName": "Vanessa Chu",
      "userId": "10595885674316425418"
     },
     "user_tz": 240
    },
    "id": "V-btaz0jhjsF"
   },
   "outputs": [
    {
     "name": "stdout",
     "output_type": "stream",
     "text": [
      "lr confidence:  0.9868386036300343\n"
     ]
    }
   ],
   "source": [
    "# Testing Model: Score returns the coefficient of determination of R^2 of the prediction\n",
    "# The best possible score is 1.0\n",
    "lr_confidence = lr.score(x_test, y_test)\n",
    "print(\"lr confidence: \", lr_confidence)"
   ]
  },
  {
   "cell_type": "code",
   "execution_count": 32,
   "metadata": {
    "executionInfo": {
     "elapsed": 4,
     "status": "aborted",
     "timestamp": 1717610077612,
     "user": {
      "displayName": "Vanessa Chu",
      "userId": "10595885674316425418"
     },
     "user_tz": 240
    },
    "id": "1qxNQaj4h8LP"
   },
   "outputs": [
    {
     "name": "stdout",
     "output_type": "stream",
     "text": [
      "[[89.83]\n",
      " [90.81]\n",
      " [92.66]\n",
      " [92.  ]\n",
      " [92.72]\n",
      " [91.49]\n",
      " [91.74]\n",
      " [94.06]\n",
      " [95.42]\n",
      " [94.2 ]\n",
      " [93.77]\n",
      " [92.85]\n",
      " [93.05]\n",
      " [93.64]\n",
      " [93.32]\n",
      " [93.86]\n",
      " [94.43]\n",
      " [96.54]\n",
      " [96.77]\n",
      " [94.41]\n",
      " [93.85]\n",
      " [94.18]\n",
      " [94.6 ]\n",
      " [92.89]\n",
      " [93.13]\n",
      " [92.48]\n",
      " [89.79]\n",
      " [87.18]\n",
      " [93.78]\n",
      " [89.47]]\n"
     ]
    }
   ],
   "source": [
    "# Set x_forecast equal to the last 30 rows of the original data set from Adj. Close column\n",
    "x_forecast = np.array(df.drop(['Prediction'], axis=1))[-forecast_out:]\n",
    "print(x_forecast)"
   ]
  },
  {
   "cell_type": "code",
   "execution_count": 33,
   "metadata": {
    "executionInfo": {
     "elapsed": 4,
     "status": "aborted",
     "timestamp": 1717610077612,
     "user": {
      "displayName": "Vanessa Chu",
      "userId": "10595885674316425418"
     },
     "user_tz": 240
    },
    "id": "H_FKjSfci4Ri"
   },
   "outputs": [
    {
     "name": "stdout",
     "output_type": "stream",
     "text": [
      "[91.87943063 92.88312829 94.77786367 94.10190402 94.83931455 93.57957157\n",
      " 93.83561689 96.21171747 97.60460402 96.35510285 95.9147049  94.97245812\n",
      " 95.17729437 95.78156133 95.45382332 96.00688122 96.59066455 98.75168707\n",
      " 98.98724876 96.57018092 95.9966394  96.33461923 96.76477537 95.01342537\n",
      " 95.25922888 94.59351104 91.83846338 89.16535022 95.92494671 91.51072537]\n",
      "[93.02612167 93.05697653 94.62612836 93.8710337  94.6854873  93.37690913\n",
      " 93.59506626 94.84321018 93.68902888 94.74500567 94.99936176 94.80227979\n",
      " 94.94410189 95.04121368 95.04995373 94.95926429 94.56526146 90.96375268\n",
      " 89.80020627 94.58147584 94.96413208 94.75969525 94.42517923 94.83455533\n",
      " 94.98621392 94.4320553  93.03030159 93.77061901 94.99533185 93.08386068]\n"
     ]
    }
   ],
   "source": [
    "# Print the linear regression model predictions for the next 'n' days\n",
    "lr_prediction = lr.predict(x_forecast)\n",
    "print(lr_prediction)\n",
    "\n",
    "# Print the support vector regressor model predictions for the next 'n' days\n",
    "svm_prediction = svr_rbf.predict(x_forecast)\n",
    "print(svm_prediction)"
   ]
  },
  {
   "cell_type": "code",
   "execution_count": 36,
   "metadata": {
    "executionInfo": {
     "elapsed": 4,
     "status": "aborted",
     "timestamp": 1717610077612,
     "user": {
      "displayName": "Vanessa Chu",
      "userId": "10595885674316425418"
     },
     "user_tz": 240
    },
    "id": "CvFChPbHiPci"
   },
   "outputs": [
    {
     "data": {
      "image/png": "[encoded data removed]",
      "text/plain": [
       "<Figure size 640x480 with 1 Axes>"
      ]
     },
     "metadata": {},
     "output_type": "display_data"
    }
   ],
   "source": [
    "# Plot a graph for each model\n",
    "x = np.arange(len(lr_prediction))\n",
    "plt.plot(x, lr_prediction)\n",
    "plt.xlabel('Day')\n",
    "plt.ylabel('Price')\n",
    "plt.title('Linear regression model prediction')\n",
    "plt.show()"
   ]
  },
  {
   "cell_type": "code",
   "execution_count": 38,
   "metadata": {
    "executionInfo": {
     "elapsed": 4,
     "status": "aborted",
     "timestamp": 1717610077612,
     "user": {
      "displayName": "Vanessa Chu",
      "userId": "10595885674316425418"
     },
     "user_tz": 240
    },
    "id": "IR9zE3lmmtVk"
   },
   "outputs": [
    {
     "data": {
      "image/png": "[encoded data removed]",
      "text/plain": [
       "<Figure size 640x480 with 1 Axes>"
      ]
     },
     "metadata": {},
     "output_type": "display_data"
    }
   ],
   "source": [
    "x = np.arange(len(svm_prediction))\n",
    "plt.plot(x, svm_prediction)\n",
    "plt.xlabel('Day')\n",
    "plt.ylabel('Price')\n",
    "plt.title('Support vector regressor model prediction')\n",
    "plt.show()"
   ]
  }
 ],
 "metadata": {
  "colab": {
   "authorship_tag": "ABX9TyNpRC6yoVUUJCTiid7MLl1w",
   "collapsed_sections": [
    "ggykOYAX1sxy"
   ],
   "provenance": [],
   "toc_visible": true
  },
  "kernelspec": {
   "display_name": "Python 3 (ipykernel)",
   "language": "python",
   "name": "python3"
  },
  "language_info": {
   "codemirror_mode": {
    "name": "ipython",
    "version": 3
   },
   "file_extension": ".py",
   "mimetype": "text/x-python",
   "name": "python",
   "nbconvert_exporter": "python",
   "pygments_lexer": "ipython3",
   "version": "3.11.7"
  }
 },
 "nbformat": 4,
 "nbformat_minor": 4
}
